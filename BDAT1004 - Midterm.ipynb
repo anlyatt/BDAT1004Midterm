{
 "cells": [
  {
   "cell_type": "markdown",
   "id": "c3372ae3",
   "metadata": {},
   "source": [
    "BDAT1004 - Data Programming - Winter, 2004 - Tuesday Section - Midterm - Andrea Attridge"
   ]
  },
  {
   "cell_type": "markdown",
   "id": "71b585e4",
   "metadata": {},
   "source": [
    "Question 21: \n",
    "__int()__: Constructor that takes as input a pair of Point objects that represent the ends points of the line segment\n",
    "\n",
    "Length():: returns the length if the segment \n",
    "\n",
    "Slope() returns the slope of the segment of none if the slope is unbounded \n",
    "\n",
    " \n",
    "\n",
    ">>> p1 = Point(3,4)\n",
    "\n",
    ">>> p2 = Point()\n",
    "\n",
    ">>> s = Segment(p1,p2)\n",
    "\n",
    ">>> s.length()\n",
    "\n",
    "5.0\n",
    "\n",
    ">>> s.slope()\n",
    "\n",
    "0.75"
   ]
  },
  {
   "cell_type": "code",
   "execution_count": 43,
   "id": "9f4067ec",
   "metadata": {},
   "outputs": [
    {
     "name": "stdout",
     "output_type": "stream",
     "text": [
      "Point p1:  (3, 4)\n",
      "Point p2:  (7, 7)\n",
      "X segment length:  4\n",
      "Y segment height:  3\n",
      "Hypotenuse length:  5.0\n",
      "Hypotenuse slope:  0.75\n"
     ]
    }
   ],
   "source": [
    "from math import sqrt\n",
    "\n",
    "class Point:\n",
    "    'represents a point on a plane'\n",
    "    def __init__(self, xcoord, ycoord):\n",
    "        'initializes point coordinates to (xcoord, ycoord)'\n",
    "        self.x = xcoord\n",
    "        self.y = ycoord\n",
    "        \n",
    "    def get(self):\n",
    "        'return a tuple with x and y coordinates of the point'\n",
    "        return (self.x, self.y)\n",
    "        \n",
    "    def xlength(self, other):\n",
    "        return abs(self.x - other.x)\n",
    "    \n",
    "    def yheight(self, other):\n",
    "        return abs(self.y - other.y)\n",
    "        \n",
    "    def Length(self, other):\n",
    "        return sqrt(self.xlength(other)**2 + self.yheight(other)**2)\n",
    "    \n",
    "    def Slope(self, other):\n",
    "        return ((self.y - other.y) / (self.x - other.x))\n",
    "        \n",
    "\n",
    "p1 = Point(3,4)\n",
    "p2 = Point(7,7)\n",
    "print('Point p1: ', p1.get())\n",
    "print('Point p2: ', p2.get())\n",
    "print('X segment length: ', p1.xlength(p2))\n",
    "print('Y segment height: ', p1.yheight(p2))\n",
    "print('Hypotenuse length: ', p1.Length(p2))\n",
    "print('Hypotenuse slope: ', p1.Slope(p2))"
   ]
  }
 ],
 "metadata": {
  "kernelspec": {
   "display_name": "Python 3 (ipykernel)",
   "language": "python",
   "name": "python3"
  },
  "language_info": {
   "codemirror_mode": {
    "name": "ipython",
    "version": 3
   },
   "file_extension": ".py",
   "mimetype": "text/x-python",
   "name": "python",
   "nbconvert_exporter": "python",
   "pygments_lexer": "ipython3",
   "version": "3.11.5"
  }
 },
 "nbformat": 4,
 "nbformat_minor": 5
}
