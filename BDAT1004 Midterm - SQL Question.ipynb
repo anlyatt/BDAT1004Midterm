{
 "cells": [
  {
   "cell_type": "markdown",
   "id": "bf977060",
   "metadata": {},
   "source": [
    "BDAT1004 - Data Programming - Winter, 2004 - Tuesday Section - Midterm - Andrea Attridge"
   ]
  },
  {
   "cell_type": "markdown",
   "id": "a5e04a2d",
   "metadata": {},
   "source": [
    "Question 22: In a jupyter notebook solve the following question using both python and SQL\n",
    "\n",
    "*This was working but then the database locked and I can't figure out how to unlock it. Tried restarting etc. but no luck. Hopefully you can see the thinking at least."
   ]
  },
  {
   "cell_type": "code",
   "execution_count": null,
   "id": "8513057a",
   "metadata": {},
   "outputs": [],
   "source": [
    "import sqlite3\n",
    "\n",
    "#connect to database\n",
    "con = sqlite3.connect('web.db')\n",
    "\n",
    "#create cursor\n",
    "cur = con.cursor()\n",
    "\n",
    "#create table with id as integer, recordDate as data and temperature as integer\n",
    "cur.execute(\"\"\"CREATE TABLE WeatherTable5 (id int, recordDate date, temperature int)\"\"\")\n",
    "con.commit()\n",
    "\n",
    "#insert values into table\n",
    "cur.execute(\"\"\"INSERT INTO WeatherTable5 VALUES ('1','2015-01-01','10')\"\"\")\n",
    "\n",
    "cur.execute(\"\"\"INSERT INTO WeatherTable5 VALUES ('2','2015-01-02','25')\"\"\")\n",
    "\n",
    "cur.execute(\"\"\"INSERT INTO WeatherTable5 VALUES ('3','2015-01-03','20')\"\"\")\n",
    "\n",
    "cur.execute(\"\"\"INSERT INTO WeatherTable5 VALUES ('4','2015-01-04','30')\"\"\")\n",
    "\n",
    "#select all values from table where temperature is greater than or equal to the temperature of the previous day (id - 1)\n",
    "cur.execture(\"\"\"SELECT * from WeatherTable5 WHERE temperature >= (SELECT temperature FROM WeatherTable3 WHERE id = id - 1)\"\"\")\n",
    "con.commit()\n",
    "con.close()"
   ]
  }
 ],
 "metadata": {
  "kernelspec": {
   "display_name": "Python 3 (ipykernel)",
   "language": "python",
   "name": "python3"
  },
  "language_info": {
   "codemirror_mode": {
    "name": "ipython",
    "version": 3
   },
   "file_extension": ".py",
   "mimetype": "text/x-python",
   "name": "python",
   "nbconvert_exporter": "python",
   "pygments_lexer": "ipython3",
   "version": "3.11.5"
  }
 },
 "nbformat": 4,
 "nbformat_minor": 5
}
